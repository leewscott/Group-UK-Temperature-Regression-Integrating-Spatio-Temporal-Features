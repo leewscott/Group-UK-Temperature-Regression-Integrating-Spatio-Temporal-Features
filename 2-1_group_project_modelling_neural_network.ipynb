{
  "cells": [
    {
      "cell_type": "markdown",
      "metadata": {
        "id": "jX0aIgVnCqir"
      },
      "source": [
        "# ID5059 Group Project: Temperature Prediction"
      ]
    },
    {
      "cell_type": "markdown",
      "metadata": {
        "id": "O6FAtutNCt3U"
      },
      "source": [
        "### 2-1 Modelling: Neural Network"
      ]
    },
    {
      "cell_type": "code",
      "execution_count": 1,
      "metadata": {
        "id": "Q1io_QLgCqEX"
      },
      "outputs": [],
      "source": [
        "# import libraries\n",
        "from pathlib import Path\n",
        "import numpy as np\n",
        "from tensorflow import keras\n",
        "from sklearn.model_selection import GridSearchCV\n",
        "\n",
        "RANDOM_STATE = 1\n",
        "np.random.seed(RANDOM_STATE)"
      ]
    },
    {
      "cell_type": "markdown",
      "metadata": {
        "id": "QGlhnpBsDKde"
      },
      "source": [
        "#### 2-1.1 Load Data"
      ]
    },
    {
      "cell_type": "code",
      "execution_count": 2,
      "metadata": {
        "colab": {
          "base_uri": "https://localhost:8080/"
        },
        "id": "1mvHFqKvDM83",
        "outputId": "fe2fb50d-36bd-4e3f-9285-aec23559b836"
      },
      "outputs": [
        {
          "name": "stdout",
          "output_type": "stream",
          "text": [
            "x_train.csv\n",
            "y_train.csv\n",
            "x_valid.csv\n",
            "y_valid.csv\n"
          ]
        }
      ],
      "source": [
        "# function reads in data from file\n",
        "def load_data(file_name, file_path = \"./\", deliniator = \",\"):\n",
        "    path = Path() / file_path / file_name; print(path)\n",
        "    if not path.is_file():\n",
        "        raise Exception(\"File not found\")\n",
        "\n",
        "    return np.loadtxt(path, delimiter = deliniator)\n",
        "\n",
        "# reads in csv file containing data\n",
        "file_path = \"./\"\n",
        "\n",
        "file_name = \"x_train.csv\"\n",
        "x_train = load_data(file_name, file_path = file_path, deliniator = \",\")\n",
        "\n",
        "file_name = \"y_train.csv\"\n",
        "y_train = load_data(file_name, file_path = file_path, deliniator = \",\")\n",
        "\n",
        "file_name = \"x_valid.csv\"\n",
        "x_valid = load_data(file_name, file_path = file_path, deliniator = \",\")\n",
        "\n",
        "file_name = \"y_valid.csv\"\n",
        "y_valid = load_data(file_name, file_path = file_path, deliniator = \",\")"
      ]
    },
    {
      "cell_type": "code",
      "execution_count": 3,
      "metadata": {
        "colab": {
          "base_uri": "https://localhost:8080/"
        },
        "id": "bFUZZQcJFwF7",
        "outputId": "f74c3779-34f1-4167-b065-14bf06e3f494"
      },
      "outputs": [
        {
          "data": {
            "text/plain": [
              "True"
            ]
          },
          "execution_count": 3,
          "metadata": {},
          "output_type": "execute_result"
        }
      ],
      "source": [
        "# checks to ensure that all of the data types are compatible for use in modelling\n",
        "type(x_train) == type(x_valid) == type(y_train) == type(y_valid)"
      ]
    },
    {
      "cell_type": "markdown",
      "metadata": {
        "id": "st9uJdWEG83i"
      },
      "source": [
        "#### 2-1.2 Implement Neural Network"
      ]
    },
    {
      "cell_type": "code",
      "execution_count": 4,
      "metadata": {
        "id": "vhN9H1kKG8I0"
      },
      "outputs": [],
      "source": [
        "def R2(yTrue, yPredicted):\n",
        "    residual = keras.backend.sum( (yTrue - yPredicted) ** 2 )\n",
        "    total = keras.backend.sum( (yTrue - keras.backend.mean(yTrue)) ** 2 )\n",
        "    return 1 - (residual / ( total + keras.backend.epsilon() ))"
      ]
    },
    {
      "cell_type": "code",
      "execution_count": null,
      "metadata": {
        "id": "gCTRtZpfHD8a"
      },
      "outputs": [],
      "source": [
        "def create_neural_network():\n",
        "    model = keras.models.Sequential()\n",
        "    model.add( keras.layers.Dense(24, input_shape = (x_train.shape[1], ), activation = \"relu\",\n",
        "                                  kernel_regularizer = keras.regularizers.L1L2(l1 = 0.01 , l2 = 0.01))\n",
        "                                  )\n",
        "    model.add( keras.layers.Dense(16, activation = \"relu\",\n",
        "                                  kernel_regularizer = keras.regularizers.L1L2(l1 = 0.01 , l2 = 0.01))\n",
        "                                  )\n",
        "    model.add( keras.layers.Dense(8, activation = \"relu\",\n",
        "                                  kernel_regularizer = keras.regularizers.L1L2(l1 = 0.01 , l2 = 0.01))\n",
        "                                  )\n",
        "    model.add( keras.layers.Dense(1, activation = \"linear\") )\n",
        "\n",
        "    model.compile(loss = \"mse\",\n",
        "                  optimizer = keras.optimizers.Adam(learning_rate = 0.001, beta_1 = 0.9, beta_2 = 0.999, epsilon = 1e-07),\n",
        "                  metrics = [keras.metrics.MeanSquaredError(), R2] )\n",
        "    return model"
      ]
    },
    {
      "cell_type": "code",
      "execution_count": 7,
      "metadata": {
        "colab": {
          "base_uri": "https://localhost:8080/",
          "height": 216
        },
        "id": "oEh6c0wWHGL3",
        "outputId": "f48ae8de-85c1-4f3b-895c-a4be6fb7450e"
      },
      "outputs": [
        {
          "ename": "NameError",
          "evalue": "name 'create_neural_network' is not defined",
          "output_type": "error",
          "traceback": [
            "\u001b[1;31m---------------------------------------------------------------------------\u001b[0m",
            "\u001b[1;31mNameError\u001b[0m                                 Traceback (most recent call last)",
            "Cell \u001b[1;32mIn[7], line 1\u001b[0m\n\u001b[1;32m----> 1\u001b[0m neural_network \u001b[38;5;241m=\u001b[39m keras\u001b[38;5;241m.\u001b[39mwrappers\u001b[38;5;241m.\u001b[39mscikit_learn\u001b[38;5;241m.\u001b[39mKerasRegressor(build_fn \u001b[38;5;241m=\u001b[39m \u001b[43mcreate_neural_network\u001b[49m)\n\u001b[0;32m      3\u001b[0m parameter_grid \u001b[38;5;241m=\u001b[39m {\n\u001b[0;32m      4\u001b[0m     \u001b[38;5;124m\"\u001b[39m\u001b[38;5;124mbatch_size\u001b[39m\u001b[38;5;124m\"\u001b[39m: [\u001b[38;5;241m16\u001b[39m, \u001b[38;5;241m32\u001b[39m],\n\u001b[0;32m      5\u001b[0m     \u001b[38;5;124m\"\u001b[39m\u001b[38;5;124mepochs\u001b[39m\u001b[38;5;124m\"\u001b[39m: [\u001b[38;5;241m5\u001b[39m, \u001b[38;5;241m10\u001b[39m],\n\u001b[0;32m      6\u001b[0m     \u001b[38;5;124m\"\u001b[39m\u001b[38;5;124mshuffle\u001b[39m\u001b[38;5;124m\"\u001b[39m: [\u001b[38;5;28;01mTrue\u001b[39;00m, \u001b[38;5;28;01mFalse\u001b[39;00m],\n\u001b[0;32m      7\u001b[0m     \u001b[38;5;124m\"\u001b[39m\u001b[38;5;124mverbose\u001b[39m\u001b[38;5;124m\"\u001b[39m: [\u001b[38;5;241m0\u001b[39m]\n\u001b[0;32m      8\u001b[0m }\n\u001b[0;32m     10\u001b[0m k \u001b[38;5;241m=\u001b[39m \u001b[38;5;241m3\u001b[39m\n",
            "\u001b[1;31mNameError\u001b[0m: name 'create_neural_network' is not defined"
          ]
        }
      ],
      "source": [
        "neural_network = keras.wrappers.scikit_learn.KerasRegressor(build_fn = create_neural_network)\n",
        "\n",
        "parameter_grid = {\n",
        "    \"batch_size\": [16, 32],\n",
        "    \"epochs\": [5, 10],\n",
        "    \"shuffle\": [True, False],\n",
        "    \"verbose\": [0]\n",
        "}\n",
        "\n",
        "k = 3\n",
        "grid = GridSearchCV(estimator = neural_network,\n",
        "                    param_grid = parameter_grid,\n",
        "                    scoring = [\"neg_mean_squared_error\", \"r2\"],\n",
        "                    refit = \"neg_mean_squared_error\", n_jobs = -1, cv = k, verbose = 3)\n",
        "\n",
        "\n",
        "N0 = 0.1\n",
        "N = int(N0 * x_train.shape[0])\n",
        "grid.fit( np.random.choice(a = x_train, size = N, replace = False), np.random.choice(a = y_train, size = N, replace = False))"
      ]
    },
    {
      "cell_type": "code",
      "execution_count": null,
      "metadata": {
        "id": "IBw8iZ4VHntF"
      },
      "outputs": [],
      "source": []
    }
  ],
  "metadata": {
    "colab": {
      "authorship_tag": "ABX9TyP7dXf1Nrvpf8Kz4zkVjjJX",
      "provenance": []
    },
    "kernelspec": {
      "display_name": "ID5059",
      "language": "python",
      "name": "python3"
    },
    "language_info": {
      "codemirror_mode": {
        "name": "ipython",
        "version": 3
      },
      "file_extension": ".py",
      "mimetype": "text/x-python",
      "name": "python",
      "nbconvert_exporter": "python",
      "pygments_lexer": "ipython3",
      "version": "3.10.11"
    }
  },
  "nbformat": 4,
  "nbformat_minor": 0
}
