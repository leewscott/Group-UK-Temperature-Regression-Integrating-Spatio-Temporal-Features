{
 "cells": [
  {
   "cell_type": "markdown",
   "id": "d078cfcaf16b44f5",
   "metadata": {},
   "source": [
    "## Imports"
   ]
  },
  {
   "cell_type": "code",
   "execution_count": 1,
   "id": "b5ab9e618e770eea",
   "metadata": {
    "ExecuteTime": {
     "end_time": "2025-04-25T16:54:03.534053Z",
     "start_time": "2025-04-25T16:54:03.529995Z"
    }
   },
   "outputs": [],
   "source": [
    "import joblib\n",
    "import time\n",
    "import numpy as np\n",
    "import pandas as pd, os\n",
    "import matplotlib.pyplot as plt\n",
    "import seaborn as sns\n",
    "from sklearn.ensemble import RandomForestRegressor\n",
    "from sklearn.metrics import mean_squared_error, r2_score, mean_absolute_error\n",
    "from sklearn.model_selection import train_test_split, RandomizedSearchCV"
   ]
  },
  {
   "cell_type": "markdown",
   "id": "f526e4195724ed8e",
   "metadata": {},
   "source": [
    "## Preprocessing & Data Split"
   ]
  },
  {
   "cell_type": "markdown",
   "id": "6f80e0694a45b504",
   "metadata": {},
   "source": [
    "Split the 'valid_time' into date and time"
   ]
  },
  {
   "cell_type": "code",
   "execution_count": 2,
   "id": "2e19859d825c7671",
   "metadata": {
    "ExecuteTime": {
     "end_time": "2025-04-25T16:54:03.563036Z",
     "start_time": "2025-04-25T16:54:03.559984Z"
    }
   },
   "outputs": [],
   "source": [
    "def extract_datetime_features(df):\n",
    "    df['valid_time'] = pd.to_datetime(df['valid_time']) # Transfer 'valid_time' into datetime type\n",
    "    df['year'] = df['valid_time'].dt.year\n",
    "    df['month'] = df['valid_time'].dt.month\n",
    "    df['day'] = df['valid_time'].dt.day\n",
    "    df['hour'] = df['valid_time'].dt.hour\n",
    "    df[\"season\"] = ((df[\"month\"] % 12 + 3) // 3) + 1\n",
    "    return df.drop([\"id\"], axis=1)"
   ]
  },
  {
   "cell_type": "markdown",
   "id": "da9c00919be1ceec",
   "metadata": {},
   "source": [
    "Add nearby features to strength the dataset, allowing the model to capture the continuity and spatial connection of the weather."
   ]
  },
  {
   "cell_type": "code",
   "execution_count": 3,
   "id": "976d53493f917e50",
   "metadata": {
    "ExecuteTime": {
     "end_time": "2025-04-25T16:54:03.586561Z",
     "start_time": "2025-04-25T16:54:03.582138Z"
    }
   },
   "outputs": [],
   "source": [
    "# Add historical data for the specific place, time lag is one hour. Places without last hour's data results in N/A so will need to drop N/A after applying this.\n",
    "def add_lag_features(df, features, group_cols=['latitude', 'longitude'], lag=1):\n",
    "    df = df.sort_values(by=group_cols + ['valid_time']).reset_index(drop=True)\n",
    "    for feat in features:\n",
    "        df[f'{feat}_lag{lag}'] = df.groupby(group_cols)[feat].shift(lag)\n",
    "        df[f'{feat}_lag{lag}'] = df[f'{feat}_lag{lag}'].fillna(df[feat])\n",
    "\n",
    "    return df\n",
    "\n",
    "# Construct a 3*3 window for each spot to compute the average data for the nine neighbors.\n",
    "def add_spatial_averages(df, features, lat_step=0.25, lon_step=0.25):\n",
    "    avg_features = []\n",
    "    for feat in features:\n",
    "        df_list = []\n",
    "        for dlat in [-lat_step, 0, lat_step]:\n",
    "            for dlon in [-lon_step, 0, lon_step]:\n",
    "                shifted = df[['latitude', 'longitude', 'valid_time', feat]].copy()\n",
    "                shifted['latitude'] += dlat\n",
    "                shifted['longitude'] += dlon\n",
    "                shifted = shifted.rename(columns={feat: f'{feat}_shift_{dlat}_{dlon}'})\n",
    "                df_list.append(shifted)\n",
    "        for df_part in df_list:\n",
    "            df = df.merge(df_part, on=['latitude', 'longitude', 'valid_time'], how='left')\n",
    "        mean_cols = [f'{feat}_shift_{dlat}_{dlon}' for dlat in [-lat_step, 0, lat_step] for dlon in [-lon_step, 0, lon_step]]\n",
    "        df[f'{feat}_spatial_mean'] = df[mean_cols].mean(axis=1)\n",
    "        df = df.drop(columns=mean_cols)\n",
    "        # Fill missing spatial means with original feature value\n",
    "        df[f'{feat}_spatial_mean'] = df[f'{feat}_spatial_mean'].fillna(df[feat])\n",
    "        avg_features.append(f'{feat}_spatial_mean')\n",
    "    return df"
   ]
  },
  {
   "cell_type": "markdown",
   "id": "47ebc7988633db2e",
   "metadata": {},
   "source": [
    "Prepare datasets"
   ]
  },
  {
   "cell_type": "code",
   "execution_count": 4,
   "id": "ad77c5c6500fd649",
   "metadata": {
    "ExecuteTime": {
     "end_time": "2025-04-25T16:54:03.610153Z",
     "start_time": "2025-04-25T16:54:03.606566Z"
    }
   },
   "outputs": [],
   "source": [
    "standard_features = [\n",
    "    'tp', 'sp', 'u10', 'v10', 'u100', 'v100', 'tcc', 'ptype',\n",
    "    'month', 'day', 'hour', 'season'\n",
    "]\n",
    "\n",
    "lag_vars = ['tp', 'sp', 'u10', 'v10']\n",
    "spatial_vars = ['tp', 'sp', 'tcc']\n",
    "\n",
    "# For consistency, define lag and spatial lag features\n",
    "lag_features = [f'{var}_lag1' for var in lag_vars]\n",
    "spatial_lag_features = [f'{var}_lag1_spatial_mean' for var in lag_vars]\n",
    "\n",
    "final_features = standard_features + lag_features + spatial_vars + spatial_lag_features\n",
    "\n",
    "# Load dataset and, split valid_time, sampling for model training.\n",
    "def prepare_dataset(option='standard', path='data/train.csv'):\n",
    "\n",
    "    df = pd.read_csv(path).copy()\n",
    "    df = extract_datetime_features(df)\n",
    "    df = df.sort_values(by=['latitude', 'longitude', 'valid_time']).reset_index(drop=True)\n",
    "\n",
    "    if option == 'standard':\n",
    "        df = df[standard_features + ['t2m']].dropna()\n",
    "        return df\n",
    "    if option == 'with_lag':\n",
    "        df = add_lag_features(df, lag_vars)\n",
    "        df = df[standard_features + lag_features + ['t2m']].dropna()\n",
    "        return df\n",
    "    if option == 'with_lag_spatial':\n",
    "        df = add_lag_features(df, lag_vars)\n",
    "        df = add_spatial_averages(df, spatial_vars)\n",
    "        df = add_spatial_averages(df, lag_features)\n",
    "        df = df[final_features + ['t2m']].dropna()\n",
    "        return df\n",
    "    raise ValueError(\"Invalid option. Choose from 'standard', 'with_lag', 'with_lag_spatial'\")"
   ]
  },
  {
   "cell_type": "markdown",
   "id": "edaebcfbc3b2d909",
   "metadata": {},
   "source": [
    "## Split sampled train dataset"
   ]
  },
  {
   "cell_type": "code",
   "execution_count": 5,
   "id": "855f3e9b6c899a90",
   "metadata": {
    "ExecuteTime": {
     "end_time": "2025-04-25T16:59:13.282078Z",
     "start_time": "2025-04-25T16:54:03.627238Z"
    }
   },
   "outputs": [
    {
     "name": "stdout",
     "output_type": "stream",
     "text": [
      "Loaded: df.csv\n"
     ]
    }
   ],
   "source": [
    "# 1. Load strengthened data and sampling.\n",
    "df = prepare_dataset('with_lag_spatial')\n",
    "\n",
    "# Check if the processed dataset already exists.\n",
    "if os.path.exists(\"df.csv\"):\n",
    "    df = pd.read_csv(\"df.csv\")\n",
    "    print(\"Loaded: df.csv\")\n",
    "else:\n",
    "    df.to_csv(\"df.csv\", index=False)\n",
    "    print(\"Saved: df.csv\")\n",
    "\n",
    "# Sampling for the fine-tuning\n",
    "df_sample = df.sample(frac=0.1, random_state=42)\n",
    "\n",
    "# 2. Split train and validation set on the sample\n",
    "X_sample = df_sample.drop(columns=['t2m'])\n",
    "y_sample = df_sample['t2m']\n",
    "X_train, X_val, y_train, y_val = train_test_split(X_sample, y_sample, test_size=0.2, random_state=42)\n"
   ]
  },
  {
   "cell_type": "markdown",
   "id": "5319b3642021cacc",
   "metadata": {},
   "source": [
    "## Fine tuning"
   ]
  },
  {
   "cell_type": "code",
   "execution_count": 6,
   "id": "bf012150cf63f4a3",
   "metadata": {
    "ExecuteTime": {
     "end_time": "2025-04-25T17:02:06.372590Z",
     "start_time": "2025-04-25T16:59:13.309717Z"
    }
   },
   "outputs": [
    {
     "name": "stdout",
     "output_type": "stream",
     "text": [
      "Loaded existing tuned model: rf_best_model.pkl\n"
     ]
    }
   ],
   "source": [
    "# Fallback Strategy, in case there's already a model\n",
    "if os.path.exists(\"rf_best_model.pkl\"):\n",
    "    rf_best_model = joblib.load(\"rf_best_model.pkl\")\n",
    "    print(\"Loaded existing tuned model: rf_best_model.pkl\")\n",
    "else:\n",
    "    start = time.perf_counter()\n",
    "    # Parameters\n",
    "    param_dist = {\n",
    "        'n_estimators': [100, 200, 300],\n",
    "        'min_samples_split': [2, 5, 10],\n",
    "        'min_samples_leaf': [1, 2, 4],\n",
    "        'max_depth': [20, 30, 40],\n",
    "        'max_features': ['sqrt', 'log2'],\n",
    "    }\n",
    "    rf = RandomForestRegressor(random_state=42, n_jobs=-1)\n",
    "\n",
    "    # Settings\n",
    "    search = RandomizedSearchCV(\n",
    "        estimator=rf,\n",
    "        param_distributions=param_dist,\n",
    "        n_iter=1,\n",
    "        cv=3,\n",
    "        scoring='neg_mean_squared_error',\n",
    "        verbose=1,\n",
    "        random_state=42,\n",
    "        n_jobs=-1,\n",
    "        error_score='raise'\n",
    "    )\n",
    "\n",
    "    # Fit the model\n",
    "    search.fit(X_train, y_train)\n",
    "    end = time.perf_counter()\n",
    "    print(f\"Tuning time: {end - start:.2f} seconds\")\n",
    "\n",
    "    # Find the best model\n",
    "    rf_best_model = search.best_estimator_\n",
    "    joblib.dump(rf_best_model, \"rf_best_model.pkl\", compress=3)\n",
    "    print(\"Best sample model saved to rf_best_model.pkl\")"
   ]
  },
  {
   "cell_type": "markdown",
   "id": "80b854787bfdc16d",
   "metadata": {},
   "source": [
    "### Evaluation on the validation set"
   ]
  },
  {
   "cell_type": "code",
   "execution_count": 7,
   "id": "104acbdeed266199",
   "metadata": {
    "ExecuteTime": {
     "end_time": "2025-04-25T17:02:07.985140Z",
     "start_time": "2025-04-25T17:02:06.394669Z"
    }
   },
   "outputs": [
    {
     "ename": "ValueError",
     "evalue": "The feature names should match those that were passed during fit.\nFeature names unseen at fit time:\n- sp.1\n- tcc.1\n- tp.1\n",
     "output_type": "error",
     "traceback": [
      "\u001b[0;31m---------------------------------------------------------------------------\u001b[0m",
      "\u001b[0;31mValueError\u001b[0m                                Traceback (most recent call last)",
      "Cell \u001b[0;32mIn[7], line 2\u001b[0m\n\u001b[1;32m      1\u001b[0m \u001b[38;5;66;03m# Evaluation by three indexes\u001b[39;00m\n\u001b[0;32m----> 2\u001b[0m y_val_pred \u001b[38;5;241m=\u001b[39m \u001b[43mrf_best_model\u001b[49m\u001b[38;5;241;43m.\u001b[39;49m\u001b[43mpredict\u001b[49m\u001b[43m(\u001b[49m\u001b[43mX_val\u001b[49m\u001b[43m)\u001b[49m\n\u001b[1;32m      3\u001b[0m rmse \u001b[38;5;241m=\u001b[39m np\u001b[38;5;241m.\u001b[39msqrt(mean_squared_error(y_val, y_val_pred))\n\u001b[1;32m      4\u001b[0m r2 \u001b[38;5;241m=\u001b[39m r2_score(y_val, y_val_pred)\n",
      "File \u001b[0;32m~/miniconda3/envs/02/lib/python3.9/site-packages/sklearn/ensemble/_forest.py:1066\u001b[0m, in \u001b[0;36mForestRegressor.predict\u001b[0;34m(self, X)\u001b[0m\n\u001b[1;32m   1064\u001b[0m check_is_fitted(\u001b[38;5;28mself\u001b[39m)\n\u001b[1;32m   1065\u001b[0m \u001b[38;5;66;03m# Check data\u001b[39;00m\n\u001b[0;32m-> 1066\u001b[0m X \u001b[38;5;241m=\u001b[39m \u001b[38;5;28;43mself\u001b[39;49m\u001b[38;5;241;43m.\u001b[39;49m\u001b[43m_validate_X_predict\u001b[49m\u001b[43m(\u001b[49m\u001b[43mX\u001b[49m\u001b[43m)\u001b[49m\n\u001b[1;32m   1068\u001b[0m \u001b[38;5;66;03m# Assign chunk of trees to jobs\u001b[39;00m\n\u001b[1;32m   1069\u001b[0m n_jobs, _, _ \u001b[38;5;241m=\u001b[39m _partition_estimators(\u001b[38;5;28mself\u001b[39m\u001b[38;5;241m.\u001b[39mn_estimators, \u001b[38;5;28mself\u001b[39m\u001b[38;5;241m.\u001b[39mn_jobs)\n",
      "File \u001b[0;32m~/miniconda3/envs/02/lib/python3.9/site-packages/sklearn/ensemble/_forest.py:638\u001b[0m, in \u001b[0;36mBaseForest._validate_X_predict\u001b[0;34m(self, X)\u001b[0m\n\u001b[1;32m    635\u001b[0m \u001b[38;5;28;01melse\u001b[39;00m:\n\u001b[1;32m    636\u001b[0m     ensure_all_finite \u001b[38;5;241m=\u001b[39m \u001b[38;5;28;01mTrue\u001b[39;00m\n\u001b[0;32m--> 638\u001b[0m X \u001b[38;5;241m=\u001b[39m \u001b[43mvalidate_data\u001b[49m\u001b[43m(\u001b[49m\n\u001b[1;32m    639\u001b[0m \u001b[43m    \u001b[49m\u001b[38;5;28;43mself\u001b[39;49m\u001b[43m,\u001b[49m\n\u001b[1;32m    640\u001b[0m \u001b[43m    \u001b[49m\u001b[43mX\u001b[49m\u001b[43m,\u001b[49m\n\u001b[1;32m    641\u001b[0m \u001b[43m    \u001b[49m\u001b[43mdtype\u001b[49m\u001b[38;5;241;43m=\u001b[39;49m\u001b[43mDTYPE\u001b[49m\u001b[43m,\u001b[49m\n\u001b[1;32m    642\u001b[0m \u001b[43m    \u001b[49m\u001b[43maccept_sparse\u001b[49m\u001b[38;5;241;43m=\u001b[39;49m\u001b[38;5;124;43m\"\u001b[39;49m\u001b[38;5;124;43mcsr\u001b[39;49m\u001b[38;5;124;43m\"\u001b[39;49m\u001b[43m,\u001b[49m\n\u001b[1;32m    643\u001b[0m \u001b[43m    \u001b[49m\u001b[43mreset\u001b[49m\u001b[38;5;241;43m=\u001b[39;49m\u001b[38;5;28;43;01mFalse\u001b[39;49;00m\u001b[43m,\u001b[49m\n\u001b[1;32m    644\u001b[0m \u001b[43m    \u001b[49m\u001b[43mensure_all_finite\u001b[49m\u001b[38;5;241;43m=\u001b[39;49m\u001b[43mensure_all_finite\u001b[49m\u001b[43m,\u001b[49m\n\u001b[1;32m    645\u001b[0m \u001b[43m\u001b[49m\u001b[43m)\u001b[49m\n\u001b[1;32m    646\u001b[0m \u001b[38;5;28;01mif\u001b[39;00m issparse(X) \u001b[38;5;129;01mand\u001b[39;00m (X\u001b[38;5;241m.\u001b[39mindices\u001b[38;5;241m.\u001b[39mdtype \u001b[38;5;241m!=\u001b[39m np\u001b[38;5;241m.\u001b[39mintc \u001b[38;5;129;01mor\u001b[39;00m X\u001b[38;5;241m.\u001b[39mindptr\u001b[38;5;241m.\u001b[39mdtype \u001b[38;5;241m!=\u001b[39m np\u001b[38;5;241m.\u001b[39mintc):\n\u001b[1;32m    647\u001b[0m     \u001b[38;5;28;01mraise\u001b[39;00m \u001b[38;5;167;01mValueError\u001b[39;00m(\u001b[38;5;124m\"\u001b[39m\u001b[38;5;124mNo support for np.int64 index based sparse matrices\u001b[39m\u001b[38;5;124m\"\u001b[39m)\n",
      "File \u001b[0;32m~/miniconda3/envs/02/lib/python3.9/site-packages/sklearn/utils/validation.py:2919\u001b[0m, in \u001b[0;36mvalidate_data\u001b[0;34m(_estimator, X, y, reset, validate_separately, skip_check_array, **check_params)\u001b[0m\n\u001b[1;32m   2835\u001b[0m \u001b[38;5;28;01mdef\u001b[39;00m \u001b[38;5;21mvalidate_data\u001b[39m(\n\u001b[1;32m   2836\u001b[0m     _estimator,\n\u001b[1;32m   2837\u001b[0m     \u001b[38;5;241m/\u001b[39m,\n\u001b[0;32m   (...)\u001b[0m\n\u001b[1;32m   2843\u001b[0m     \u001b[38;5;241m*\u001b[39m\u001b[38;5;241m*\u001b[39mcheck_params,\n\u001b[1;32m   2844\u001b[0m ):\n\u001b[1;32m   2845\u001b[0m \u001b[38;5;250m    \u001b[39m\u001b[38;5;124;03m\"\"\"Validate input data and set or check feature names and counts of the input.\u001b[39;00m\n\u001b[1;32m   2846\u001b[0m \n\u001b[1;32m   2847\u001b[0m \u001b[38;5;124;03m    This helper function should be used in an estimator that requires input\u001b[39;00m\n\u001b[0;32m   (...)\u001b[0m\n\u001b[1;32m   2917\u001b[0m \u001b[38;5;124;03m        validated.\u001b[39;00m\n\u001b[1;32m   2918\u001b[0m \u001b[38;5;124;03m    \"\"\"\u001b[39;00m\n\u001b[0;32m-> 2919\u001b[0m     \u001b[43m_check_feature_names\u001b[49m\u001b[43m(\u001b[49m\u001b[43m_estimator\u001b[49m\u001b[43m,\u001b[49m\u001b[43m \u001b[49m\u001b[43mX\u001b[49m\u001b[43m,\u001b[49m\u001b[43m \u001b[49m\u001b[43mreset\u001b[49m\u001b[38;5;241;43m=\u001b[39;49m\u001b[43mreset\u001b[49m\u001b[43m)\u001b[49m\n\u001b[1;32m   2920\u001b[0m     tags \u001b[38;5;241m=\u001b[39m get_tags(_estimator)\n\u001b[1;32m   2921\u001b[0m     \u001b[38;5;28;01mif\u001b[39;00m y \u001b[38;5;129;01mis\u001b[39;00m \u001b[38;5;28;01mNone\u001b[39;00m \u001b[38;5;129;01mand\u001b[39;00m tags\u001b[38;5;241m.\u001b[39mtarget_tags\u001b[38;5;241m.\u001b[39mrequired:\n",
      "File \u001b[0;32m~/miniconda3/envs/02/lib/python3.9/site-packages/sklearn/utils/validation.py:2777\u001b[0m, in \u001b[0;36m_check_feature_names\u001b[0;34m(estimator, X, reset)\u001b[0m\n\u001b[1;32m   2774\u001b[0m \u001b[38;5;28;01mif\u001b[39;00m \u001b[38;5;129;01mnot\u001b[39;00m missing_names \u001b[38;5;129;01mand\u001b[39;00m \u001b[38;5;129;01mnot\u001b[39;00m unexpected_names:\n\u001b[1;32m   2775\u001b[0m     message \u001b[38;5;241m+\u001b[39m\u001b[38;5;241m=\u001b[39m \u001b[38;5;124m\"\u001b[39m\u001b[38;5;124mFeature names must be in the same order as they were in fit.\u001b[39m\u001b[38;5;130;01m\\n\u001b[39;00m\u001b[38;5;124m\"\u001b[39m\n\u001b[0;32m-> 2777\u001b[0m \u001b[38;5;28;01mraise\u001b[39;00m \u001b[38;5;167;01mValueError\u001b[39;00m(message)\n",
      "\u001b[0;31mValueError\u001b[0m: The feature names should match those that were passed during fit.\nFeature names unseen at fit time:\n- sp.1\n- tcc.1\n- tp.1\n"
     ]
    }
   ],
   "source": [
    "# Evaluation by three indexes\n",
    "y_val_pred = rf_best_model.predict(X_val)\n",
    "rmse = np.sqrt(mean_squared_error(y_val, y_val_pred))\n",
    "r2 = r2_score(y_val, y_val_pred)\n",
    "mae = mean_absolute_error(y_val, y_val_pred)\n",
    "print(f\"Validation RMSE: {rmse:.4f}, R²: {r2:.4f}, MAE: {mae:.4f}\")\n",
    "print(\"Best Parameters:\", search.best_params_)"
   ]
  },
  {
   "cell_type": "markdown",
   "id": "a30855dab7ea1aaf",
   "metadata": {},
   "source": [
    "## Final Model trained on the whole dataset"
   ]
  },
  {
   "cell_type": "code",
   "execution_count": null,
   "id": "d0351405b6a78262",
   "metadata": {
    "ExecuteTime": {
     "end_time": "2025-04-25T17:19:40.323461Z",
     "start_time": "2025-04-25T17:02:08.004869Z"
    }
   },
   "outputs": [
    {
     "name": "stdout",
     "output_type": "stream",
     "text": [
      "Saved: training and validation splits on full dataset\n",
      "Final model training time: 722.77 seconds\n",
      "Final model trained on full dataset and saved as 'rf_final_model.pkl'\n"
     ]
    }
   ],
   "source": [
    "# 1. Features and target value\n",
    "X = df.drop(columns=['t2m'])\n",
    "y = df['t2m']\n",
    "X_full, X_val_full, y_full, y_val_full = train_test_split(X, y, test_size=0.2, random_state=42)\n",
    "X_full.to_csv(\"full_train_data.csv\", index=False)\n",
    "\n",
    "# Save copy of split train and validation sets\n",
    "X_full.to_csv(\"X_full.csv\", index=False)\n",
    "X_val_full.to_csv(\"X_val_full.csv\", index=False)\n",
    "y_full.to_csv(\"y_full.csv\", index=False)\n",
    "y_val_full.to_csv(\"y_val_full.csv\", index=False)\n",
    "print(\"Saved: training and validation splits on full dataset\")\n",
    "\n",
    "# Fallback\n",
    "if os.path.exists(\"rf_final_model.pkl\"):\n",
    "    final_model = joblib.load(\"rf_final_model.pkl\")\n",
    "    print(\"Loaded final model from rf_final_model.pkl\")\n",
    "else:\n",
    "    # 2. Construct final model（using search.best_params）\n",
    "    start = time.perf_counter()\n",
    "    params = rf_best_model.get_params()\n",
    "    params[\"n_jobs\"] = -1\n",
    "    params[\"random_state\"] = 42\n",
    "\n",
    "    # 3. Construct new model on the parameters\n",
    "    final_model = RandomForestRegressor(**params)\n",
    "\n",
    "    final_model.fit(X_full, y_full)\n",
    "    end = time.perf_counter()\n",
    "    print(f\"Final model training time: {end - start:.2f} seconds\")\n",
    "    joblib.dump(final_model, 'rf_final_model.pkl', compress=3)\n",
    "    print(\"Final model trained on full dataset and saved as 'rf_final_model.pkl'\")"
   ]
  },
  {
   "cell_type": "markdown",
   "id": "b2993956ca6d56dd",
   "metadata": {},
   "source": [
    "## Evaluation\n",
    "The model is evaluated by three scores: RMSE, R2, and MAE."
   ]
  },
  {
   "cell_type": "code",
   "execution_count": null,
   "id": "7f82ae78083e8821",
   "metadata": {
    "ExecuteTime": {
     "end_time": "2025-04-25T17:22:12.955754Z",
     "start_time": "2025-04-25T17:19:40.461737Z"
    }
   },
   "outputs": [
    {
     "name": "stdout",
     "output_type": "stream",
     "text": [
      "Evaluations on Full Dataset\n",
      "Training RMSE: 0.6094\n",
      "Validation RMSE: 0.8288\n",
      "Training R²: 0.9845\n",
      "Validation R²: 0.9714\n",
      "Training MAE: 0.3806\n",
      "Validation MAE: 0.5354\n"
     ]
    }
   ],
   "source": [
    "# Evaluation metrics\n",
    "y_pred = final_model.predict(X_full)\n",
    "y_val_pred = final_model.predict(X_val_full)\n",
    "\n",
    "train_rmse = np.sqrt(mean_squared_error(y_full, y_pred))\n",
    "val_rmse = np.sqrt(mean_squared_error(y_val_full, y_val_pred))\n",
    "train_r2 = r2_score(y_full, y_pred)\n",
    "val_r2 = r2_score(y_val_full, y_val_pred)\n",
    "train_mae = mean_absolute_error(y_full, y_pred)\n",
    "val_mae = mean_absolute_error(y_val_full, y_val_pred)\n",
    "\n",
    "print(\"Evaluations on Full Dataset\")\n",
    "print(f\"Training RMSE: {train_rmse:.4f}\")\n",
    "print(f\"Validation RMSE: {val_rmse:.4f}\")\n",
    "print(f\"Training R²: {train_r2:.4f}\")\n",
    "print(f\"Validation R²: {val_r2:.4f}\")\n",
    "print(f\"Training MAE: {train_mae:.4f}\")\n",
    "print(f\"Validation MAE: {val_mae:.4f}\")"
   ]
  },
  {
   "cell_type": "code",
   "execution_count": null,
   "id": "bad20b3c38635f7e",
   "metadata": {
    "ExecuteTime": {
     "end_time": "2025-04-25T17:22:13.524801Z",
     "start_time": "2025-04-25T17:22:13.151803Z"
    }
   },
   "outputs": [
    {
     "data": {
      "image/png": "[encoded data removed]",
      "text/plain": [
       "<Figure size 1200x400 with 3 Axes>"
      ]
     },
     "metadata": {},
     "output_type": "display_data"
    }
   ],
   "source": [
    "# Visualisation of evaluations\n",
    "# Create evaluation DataFrame\n",
    "metrics_df = pd.DataFrame({\n",
    "    'RMSE': [train_rmse, val_rmse],\n",
    "    'R²': [train_r2, val_r2],\n",
    "    'MAE': [train_mae, val_mae]\n",
    "}, index=['Train', 'Validation'])\n",
    "\n",
    "# Visualisation of all the evaluations\n",
    "plt.figure(figsize=(12, 4))\n",
    "for i, metric in enumerate(metrics_df.columns):\n",
    "    plt.subplot(1, 3, i+1)\n",
    "    sns.barplot(x=metrics_df.index, y=metrics_df[metric], hue=metrics_df.index, palette='Set2')\n",
    "    plt.title(metric)\n",
    "    plt.ylabel(metric)\n",
    "    plt.xlabel(\"\")\n",
    "    plt.grid(True)\n",
    "\n",
    "plt.suptitle(\"Model Evaluation Metrics on Train vs. Validation Sets\", fontsize=14)\n",
    "plt.tight_layout(rect=[0, 0, 1, 0.95])\n",
    "plt.show()"
   ]
  },
  {
   "cell_type": "markdown",
   "id": "ad22264ac1da74a0",
   "metadata": {},
   "source": [
    "## Predictions on the full dataset"
   ]
  },
  {
   "cell_type": "markdown",
   "id": "4dafec61f2e9f2c4",
   "metadata": {},
   "source": [
    "### Saving the validation predictions\n",
    "This will be later used in the final Evaluation file"
   ]
  },
  {
   "cell_type": "code",
   "execution_count": null,
   "id": "8e68c98efcf69018",
   "metadata": {
    "ExecuteTime": {
     "end_time": "2025-04-25T17:22:16.316646Z",
     "start_time": "2025-04-25T17:22:13.555269Z"
    }
   },
   "outputs": [
    {
     "name": "stdout",
     "output_type": "stream",
     "text": [
      "Start Predicting……\n",
      "Predicting done！\n",
      "Full validation results saved to 'rf_y_valid_predictions.csv'\n"
     ]
    }
   ],
   "source": [
    "if os.path.exists(\"rf_y_valid_predictions.csv\"):\n",
    "    print(\"Validation predictions file already exists. Skipping prediction.\")\n",
    "else:\n",
    "    # Predict on the full validation dataset\n",
    "    print(\"Start Predicting……\")\n",
    "\n",
    "    # Save predictions and true values on full validation set\n",
    "    df_val_results = pd.DataFrame({\n",
    "        'true_t2m': y_val_full.values,\n",
    "        'predicted_t2m': y_val_pred\n",
    "    })\n",
    "    print(\"Predicting done！\")\n",
    "\n",
    "    df_val_results.to_csv('rf_y_valid_predictions.csv', index=False)\n",
    "    print(\"Full validation results saved to 'rf_y_valid_predictions.csv'\")"
   ]
  },
  {
   "cell_type": "markdown",
   "id": "b98e8838b31b215c",
   "metadata": {},
   "source": [
    "### Save strengthened test set for the required final predictions"
   ]
  },
  {
   "cell_type": "code",
   "execution_count": null,
   "id": "b40426412c7ad580",
   "metadata": {
    "ExecuteTime": {
     "start_time": "2025-04-25T17:22:16.343873Z"
    },
    "jupyter": {
     "is_executing": true
    }
   },
   "outputs": [
    {
     "name": "stdout",
     "output_type": "stream",
     "text": [
      "Time to process test set: 302.71 seconds\n",
      "Saved processed test set with nearby features to 'processed_test_with_nearby_features.csv'\n"
     ]
    }
   ],
   "source": [
    "\n",
    "if os.path.exists(\"processed_test_with_nearby_features.csv\"):\n",
    "    test_df = pd.read_csv(\"processed_test_with_nearby_features.csv\")\n",
    "    print(\"Loaded processed test set with nearby features\")\n",
    "else:\n",
    "    # Print out the time this cell uses\n",
    "    start = time.perf_counter()\n",
    "\n",
    "    # Read and process test set\n",
    "    test_df = pd.read_csv('data/test.csv').copy()\n",
    "    test_df = extract_datetime_features(test_df)\n",
    "    test_df = test_df.sort_values(by=['latitude', 'longitude', 'valid_time']).reset_index(drop=True)\n",
    "\n",
    "    # Add nearby features\n",
    "    test_df = add_lag_features(test_df, lag_vars)\n",
    "    test_df = add_spatial_averages(test_df, spatial_vars)\n",
    "    test_df = add_spatial_averages(test_df, lag_features)\n",
    "    test_df = test_df[final_features].dropna()\n",
    "    X_test = test_df[final_features]\n",
    "    # Save to csv\n",
    "    test_df.to_csv('processed_test_with_nearby_features.csv', index=False)\n",
    "    end = time.perf_counter()\n",
    "    print(f\"Time to process test set: {end - start:.2f} seconds\")\n",
    "    print(\"Saved processed test set with nearby features to 'processed_test_with_nearby_features.csv'\")"
   ]
  },
  {
   "cell_type": "markdown",
   "id": "7c0757531442e075",
   "metadata": {},
   "source": [
    "## Result Visualisation"
   ]
  },
  {
   "cell_type": "markdown",
   "id": "cb1ea5b7ae0f63d0",
   "metadata": {},
   "source": [
    "### Actual vs Predicted"
   ]
  },
  {
   "cell_type": "code",
   "execution_count": null,
   "id": "a0569bd1d94968d9",
   "metadata": {},
   "outputs": [
    {
     "ename": "NameError",
     "evalue": "name 'y_full' is not defined",
     "output_type": "error",
     "traceback": [
      "\u001b[0;31m---------------------------------------------------------------------------\u001b[0m",
      "\u001b[0;31mNameError\u001b[0m                                 Traceback (most recent call last)",
      "Cell \u001b[0;32mIn[10], line 4\u001b[0m\n\u001b[1;32m      1\u001b[0m plt\u001b[38;5;241m.\u001b[39mfigure(figsize\u001b[38;5;241m=\u001b[39m(\u001b[38;5;241m6\u001b[39m, \u001b[38;5;241m6\u001b[39m))\n\u001b[1;32m      3\u001b[0m \u001b[38;5;66;03m# Plot training and validation in different colors\u001b[39;00m\n\u001b[0;32m----> 4\u001b[0m sns\u001b[38;5;241m.\u001b[39mscatterplot(x\u001b[38;5;241m=\u001b[39m\u001b[43my_full\u001b[49m, y\u001b[38;5;241m=\u001b[39my_pred, label\u001b[38;5;241m=\u001b[39m\u001b[38;5;124m'\u001b[39m\u001b[38;5;124mTraining data\u001b[39m\u001b[38;5;124m'\u001b[39m, alpha\u001b[38;5;241m=\u001b[39m\u001b[38;5;241m0.3\u001b[39m, color\u001b[38;5;241m=\u001b[39m\u001b[38;5;124m'\u001b[39m\u001b[38;5;124mblue\u001b[39m\u001b[38;5;124m'\u001b[39m)\n\u001b[1;32m      5\u001b[0m sns\u001b[38;5;241m.\u001b[39mscatterplot(x\u001b[38;5;241m=\u001b[39my_val_full, y\u001b[38;5;241m=\u001b[39my_val_pred, label\u001b[38;5;241m=\u001b[39m\u001b[38;5;124m'\u001b[39m\u001b[38;5;124mValidation data\u001b[39m\u001b[38;5;124m'\u001b[39m, alpha\u001b[38;5;241m=\u001b[39m\u001b[38;5;241m0.3\u001b[39m, color\u001b[38;5;241m=\u001b[39m\u001b[38;5;124m'\u001b[39m\u001b[38;5;124mred\u001b[39m\u001b[38;5;124m'\u001b[39m)\n\u001b[1;32m      7\u001b[0m \u001b[38;5;66;03m# Perfect prediction line\u001b[39;00m\n",
      "\u001b[0;31mNameError\u001b[0m: name 'y_full' is not defined"
     ]
    },
    {
     "data": {
      "text/plain": [
       "<Figure size 600x600 with 0 Axes>"
      ]
     },
     "metadata": {},
     "output_type": "display_data"
    }
   ],
   "source": [
    "plt.figure(figsize=(6, 6))\n",
    "\n",
    "# Plot training and validation in different colors\n",
    "sns.scatterplot(x=y_full, y=y_pred, label='Training data', alpha=0.3, color='blue')\n",
    "sns.scatterplot(x=y_val_full, y=y_val_pred, label='Validation data', alpha=0.3, color='red')\n",
    "\n",
    "# Perfect prediction line\n",
    "plt.plot([y_val_full.min(), y_val_full.max()], [y_val_full.min(), y_val_full.max()], 'k--', label='Perfect prediction')\n",
    "\n",
    "plt.xlabel('True t2m')\n",
    "plt.ylabel('Predicted t2m')\n",
    "plt.title('Prediction vs True Comparison')\n",
    "plt.legend()\n",
    "plt.grid(True)\n",
    "plt.tight_layout()\n",
    "plt.show()"
   ]
  },
  {
   "cell_type": "markdown",
   "id": "b73c4ab31f4cc3a3",
   "metadata": {},
   "source": [
    "### Residual Analysis (Validation set)"
   ]
  },
  {
   "cell_type": "code",
   "execution_count": null,
   "id": "42c5929e8460fc4b",
   "metadata": {},
   "outputs": [],
   "source": [
    "# Residual = true - predict\n",
    "residuals = y_val_full - y_val_pred\n",
    "\n",
    "# 1. Residual distribution\n",
    "plt.figure(figsize=(6, 4))\n",
    "sns.histplot(residuals, kde=True, bins=30, color='salmon')\n",
    "plt.title(\"Residual Distribution (Validation Set)\")\n",
    "plt.xlabel(\"Residual\")\n",
    "plt.grid(True)\n",
    "plt.show()\n",
    "\n",
    "# 2. Residual vs Prediction\n",
    "plt.figure(figsize=(6, 4))\n",
    "plt.scatter(y_val_pred, residuals, alpha=0.3)\n",
    "plt.axhline(0, color='black', linestyle='--')\n",
    "plt.title(\"Residuals vs. Predicted Values\")\n",
    "plt.xlabel(\"Predicted T2M\")\n",
    "plt.ylabel(\"Residual\")\n",
    "plt.grid(True)\n",
    "plt.show()\n",
    "\n",
    "# 3. QQ plot（Normality test）\n",
    "import scipy.stats as stats\n",
    "plt.figure(figsize=(5, 5))\n",
    "stats.probplot(residuals, dist=\"norm\", plot=plt)\n",
    "plt.title(\"QQ Plot of Residuals\")\n",
    "plt.grid(True)\n",
    "plt.show()\n"
   ]
  },
  {
   "cell_type": "markdown",
   "id": "9f2b488ccd11be24",
   "metadata": {},
   "source": [
    "### Feature Importances"
   ]
  },
  {
   "cell_type": "code",
   "execution_count": null,
   "id": "6e179252b3b23aea",
   "metadata": {},
   "outputs": [],
   "source": [
    "# Analyse which features are important, showing top 15\n",
    "importances = pd.Series(final_model.feature_importances_, index=X_full.columns)\n",
    "top_features = importances.sort_values(ascending=True).tail(15)\n",
    "\n",
    "plt.figure(figsize=(8, 6))\n",
    "sns.barplot(x=top_features.values, y=top_features.index, color='skyblue')\n",
    "plt.title(\"Top 15 Important Features (Lag Dataset)\", fontsize=14)\n",
    "plt.xlabel(\"Feature Importance\")\n",
    "plt.ylabel(\"Feature\")\n",
    "plt.grid(axis='x', linestyle='--', alpha=0.7)\n",
    "plt.tight_layout()\n",
    "plt.show()"
   ]
  },
  {
   "cell_type": "markdown",
   "id": "cde2a1dd5e3c9e37",
   "metadata": {},
   "source": [
    "## Improvement by nearby features\n",
    "This part we will compare the model performances between original dataset and strengthened dataset to understand the improvement brought by the nearby features."
   ]
  },
  {
   "cell_type": "markdown",
   "id": "8b0c12f8a6387f6b",
   "metadata": {},
   "source": [
    "### Standard dataset: training and prediction\n"
   ]
  },
  {
   "cell_type": "code",
   "execution_count": null,
   "id": "3454b948c8443fba",
   "metadata": {},
   "outputs": [],
   "source": [
    "# load standard dataset\n",
    "df_std = prepare_dataset(option=\"standard\")\n",
    "\n",
    "# split into train and validation set\n",
    "X_std = df_std.drop(columns=[\"t2m\"])\n",
    "y_std = df_std[\"t2m\"]\n",
    "X_train_std, X_val_std, y_train_std, y_val_std = train_test_split(X_std, y_std, test_size=0.2, random_state=42)\n",
    "\n",
    "# model training\n",
    "rf_std = RandomForestRegressor(random_state=42, n_jobs=-1)\n",
    "rf_std.fit(X_train_std, y_train_std)\n",
    "\n",
    "# prediction\n",
    "y_pred_std = rf_std.predict(X_val_std)\n",
    "\n",
    "# save prediction result\n",
    "pd.DataFrame({\n",
    "    \"y_true\": y_val_std,\n",
    "    \"y_pred\": y_pred_std\n",
    "}).to_csv(\"y_val_pred_std.csv\", index=False)\n",
    "\n",
    "print(\"Standard model has been trained and saved as y_val_pred_std.csv\")\n"
   ]
  },
  {
   "cell_type": "markdown",
   "id": "5b9e23b7edde6395",
   "metadata": {},
   "source": [
    "### Analysis and visualisation"
   ]
  },
  {
   "cell_type": "code",
   "execution_count": null,
   "id": "d29e565f6e115e1",
   "metadata": {},
   "outputs": [],
   "source": [
    "# load two sets\n",
    "std_df = pd.read_csv(\"y_val_pred_std.csv\")\n",
    "lag_df = pd.read_csv(\"rf_y_valid_predictions.csv\")\n",
    "\n",
    "# metrics computing\n",
    "metrics = {\n",
    "    \"RMSE\": lambda y, yhat: mean_squared_error(y, yhat, squared=False),\n",
    "    \"R²\": r2_score,\n",
    "    \"MAE\": mean_absolute_error\n",
    "}\n",
    "\n",
    "# create comparing chart\n",
    "eval_df = pd.DataFrame({\n",
    "    metric: [\n",
    "        func(std_df[\"y_true\"], std_df[\"y_pred\"]),\n",
    "        func(lag_df[\"y_true\"], lag_df[\"y_pred\"])\n",
    "    ]\n",
    "    for metric, func in metrics.items()\n",
    "}, index=[\"Standard\", \"Lag+Nearby\"])\n",
    "\n",
    "# visualisations\n",
    "plt.figure(figsize=(12, 4))\n",
    "for i, metric in enumerate(eval_df.columns):\n",
    "    plt.subplot(1, 3, i+1)\n",
    "    sns.barplot(x=eval_df.index, y=eval_df[metric], palette=\"Set2\")\n",
    "    plt.title(metric)\n",
    "    plt.grid(True)\n",
    "    plt.ylabel(metric)\n",
    "\n",
    "plt.suptitle(\"📊 Evaluation Comparison: Standard vs Lag+Nearby Features\", fontsize=14)\n",
    "plt.tight_layout(rect=[0, 0, 1, 0.95])\n",
    "plt.show()\n"
   ]
  }
 ],
 "metadata": {
  "kernelspec": {
   "display_name": "Python 3",
   "language": "python",
   "name": "python3"
  },
  "language_info": {
   "codemirror_mode": {
    "name": "ipython",
    "version": 3
   },
   "file_extension": ".py",
   "mimetype": "text/x-python",
   "name": "python",
   "nbconvert_exporter": "python",
   "pygments_lexer": "ipython3",
   "version": "3.9.21"
  }
 },
 "nbformat": 4,
 "nbformat_minor": 5
}
