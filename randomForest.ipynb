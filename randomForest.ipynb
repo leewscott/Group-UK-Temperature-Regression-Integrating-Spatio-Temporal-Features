{
 "cells": [
  {
   "metadata": {},
   "cell_type": "markdown",
   "source": "## Imports",
   "id": "d078cfcaf16b44f5"
  },
  {
   "metadata": {
    "ExecuteTime": {
     "end_time": "2025-04-10T19:21:36.947026Z",
     "start_time": "2025-04-10T19:21:36.944443Z"
    }
   },
   "cell_type": "code",
   "source": [
    "import joblib\n",
    "import numpy as np\n",
    "import pandas as pd\n",
    "import matplotlib.pyplot as plt\n",
    "import seaborn as sns\n",
    "from sklearn.ensemble import RandomForestRegressor\n",
    "from sklearn.metrics import mean_squared_error, r2_score\n",
    "from sklearn.model_selection import GridSearchCV"
   ],
   "id": "b5ab9e618e770eea",
   "outputs": [],
   "execution_count": 207
  },
  {
   "metadata": {},
   "cell_type": "markdown",
   "source": "## Preprocessing & split validation set",
   "id": "f526e4195724ed8e"
  },
  {
   "metadata": {
    "ExecuteTime": {
     "end_time": "2025-04-10T19:21:36.991684Z",
     "start_time": "2025-04-10T19:21:36.988984Z"
    }
   },
   "cell_type": "code",
   "source": [
    "# Split the 'valid_time' into date and time\n",
    "def extract_datetime_features(df):\n",
    "    df['valid_time'] = pd.to_datetime(df['valid_time']) # Transfer 'valid_time' into datetime type\n",
    "    df['year'] = df['valid_time'].dt.year\n",
    "    df['month'] = df['valid_time'].dt.month\n",
    "    df['day'] = df['valid_time'].dt.day\n",
    "    df['hour'] = df['valid_time'].dt.hour\n",
    "    df['weekday'] = df['valid_time'].dt.weekday\n",
    "    return df"
   ],
   "id": "2e19859d825c7671",
   "outputs": [],
   "execution_count": 208
  },
  {
   "metadata": {
    "ExecuteTime": {
     "end_time": "2025-04-10T19:21:37.038761Z",
     "start_time": "2025-04-10T19:21:37.034043Z"
    }
   },
   "cell_type": "code",
   "source": [
    "# Add nearby features\n",
    "def add_lag_features(df, features, group_cols=['latitude', 'longitude'], lag=1):\n",
    "    df = df.sort_values(by=group_cols + ['valid_time']).reset_index(drop=True)\n",
    "    for feat in features:\n",
    "        df[f'{feat}_lag{lag}'] = df.groupby(group_cols)[feat].shift(lag)\n",
    "    return df\n",
    "\n",
    "def add_spatial_averages(df, features, lat_step=0.25, lon_step=0.25):\n",
    "    avg_features = []\n",
    "    for feat in features:\n",
    "        df_list = []\n",
    "        for dlat in [-lat_step, 0, lat_step]:\n",
    "            for dlon in [-lon_step, 0, lon_step]:\n",
    "                shifted = df[['latitude', 'longitude', 'valid_time', feat]].copy()\n",
    "                shifted['latitude'] += dlat\n",
    "                shifted['longitude'] += dlon\n",
    "                shifted = shifted.rename(columns={feat: f'{feat}_shift_{dlat}_{dlon}'})\n",
    "                df_list.append(shifted)\n",
    "        for df_part in df_list:\n",
    "            df = df.merge(df_part, on=['latitude', 'longitude', 'valid_time'], how='left')\n",
    "        mean_cols = [f'{feat}_shift_{dlat}_{dlon}' for dlat in [-lat_step, 0, lat_step] for dlon in [-lon_step, 0, lon_step]]\n",
    "        df[f'{feat}_spatial_mean'] = df[mean_cols].mean(axis=1)\n",
    "        df = df.drop(columns=mean_cols)\n",
    "        avg_features.append(f'{feat}_spatial_mean')\n",
    "    return df\n"
   ],
   "id": "976d53493f917e50",
   "outputs": [],
   "execution_count": 209
  },
  {
   "metadata": {
    "ExecuteTime": {
     "end_time": "2025-04-10T19:21:47.540543Z",
     "start_time": "2025-04-10T19:21:37.080851Z"
    }
   },
   "cell_type": "code",
   "source": [
    "df = pd.read_csv('/cs/datasets/ID5059/Coursework2/data/train.csv')\n",
    "df = extract_datetime_features(df)\n",
    "\n",
    "# Ensure time order\n",
    "df_sampled = df.iloc[:50000]\n",
    "split_idx = int(len(df_sampled) * 0.8)\n",
    "train_df = df_sampled.iloc[:split_idx]\n",
    "val_df = df_sampled.iloc[split_idx:]"
   ],
   "id": "855f3e9b6c899a90",
   "outputs": [],
   "execution_count": 210
  },
  {
   "metadata": {
    "ExecuteTime": {
     "end_time": "2025-04-10T19:21:48.235496Z",
     "start_time": "2025-04-10T19:21:47.576710Z"
    }
   },
   "cell_type": "code",
   "source": [
    "# Add time lag\n",
    "time_lag_vars = ['tp', 'sp', 'u10', 'v10']\n",
    "train_df = add_lag_features(train_df, time_lag_vars)\n",
    "val_df = add_lag_features(val_df, time_lag_vars)\n",
    "\n",
    "# Add nearby spatial features\n",
    "spatial_vars = ['tp', 'sp', 'tcc']\n",
    "train_df = add_spatial_averages(train_df, spatial_vars)\n",
    "val_df = add_spatial_averages(val_df, spatial_vars)\n",
    "\n",
    "# Add lagging spatial average\n",
    "spatial_lag_vars = [f'{var}_lag1' for var in time_lag_vars]\n",
    "train_df = add_spatial_averages(train_df, spatial_lag_vars)\n",
    "val_df = add_spatial_averages(val_df, spatial_lag_vars)\n",
    "\n",
    "# Drop N/A\n",
    "train_df = train_df.dropna()\n",
    "val_df = val_df.dropna()\n"
   ],
   "id": "c2749e0e9bd16a7f",
   "outputs": [],
   "execution_count": 211
  },
  {
   "metadata": {
    "ExecuteTime": {
     "end_time": "2025-04-10T19:21:48.278470Z",
     "start_time": "2025-04-10T19:21:48.273908Z"
    }
   },
   "cell_type": "code",
   "source": [
    "# Construct the feature list\n",
    "base_vars = ['tp', 'sp', 'u10', 'v10']\n",
    "time_lag_vars = [f'{var}_lag1' for var in base_vars]\n",
    "spatial_vars = ['tp', 'sp', 'tcc']\n",
    "spatial_lag_vars = [f'{var}_lag1' for var in base_vars]\n",
    "time_cols = ['month', 'day', 'hour', 'weekday']\n",
    "\n",
    "feature_cols = base_vars + time_lag_vars + spatial_vars + spatial_lag_vars + time_cols\n",
    "\n",
    "# Make X/y using the feature list\n",
    "X_train = train_df[feature_cols]\n",
    "y_train = train_df['t2m']\n",
    "X_val = val_df[feature_cols]\n",
    "y_val = val_df['t2m']\n"
   ],
   "id": "cc8c0f502fa79cbe",
   "outputs": [],
   "execution_count": 212
  },
  {
   "metadata": {},
   "cell_type": "markdown",
   "source": "## Model Training",
   "id": "c484038a59649c25"
  },
  {
   "metadata": {
    "ExecuteTime": {
     "end_time": "2025-04-10T19:21:53.004354Z",
     "start_time": "2025-04-10T19:21:48.318071Z"
    }
   },
   "cell_type": "code",
   "source": [
    "# Train the model\n",
    "model = RandomForestRegressor(\n",
    "    n_estimators=100,\n",
    "    max_depth=15,\n",
    "    random_state=42,\n",
    "    n_jobs=-1)\n",
    "model.fit(X_train, y_train)\n",
    "\n",
    "# Make the prediction using validation set\n",
    "y_pred_val = model.predict(X_val)\n",
    "\n",
    "# Evaluation\n",
    "mse = mean_squared_error(y_val, y_pred_val)\n",
    "r2 = r2_score(y_val, y_pred_val)\n",
    "\n",
    "print(f\"MSE: {mse:.4f}\")\n",
    "print(f\"R²: {r2:.4f}\")"
   ],
   "id": "fd0e248ff469e595",
   "outputs": [
    {
     "name": "stdout",
     "output_type": "stream",
     "text": [
      "MSE: 2.0400\n",
      "R²: 0.6919\n"
     ]
    }
   ],
   "execution_count": 213
  },
  {
   "metadata": {},
   "cell_type": "markdown",
   "source": [
    "\n",
    "## Feature importances"
   ],
   "id": "dfcd8e5982d553b5"
  },
  {
   "metadata": {
    "ExecuteTime": {
     "end_time": "2025-04-10T19:21:53.218667Z",
     "start_time": "2025-04-10T19:21:53.042438Z"
    }
   },
   "cell_type": "code",
   "source": [
    "features = np.array(X_train.columns)  # In case a 'None' shown on the y\n",
    "importances = model.feature_importances_\n",
    "\n",
    "# Show from the highest ranking\n",
    "sorted_idx = importances.argsort()[::-1]\n",
    "plt.figure(figsize=(10, 6))\n",
    "sns.barplot(x=importances[sorted_idx], y=features[sorted_idx])\n",
    "plt.title(\"Feature Importances\")\n",
    "plt.tight_layout()\n",
    "plt.show()\n"
   ],
   "id": "4be6317af96c3bfa",
   "outputs": [
    {
     "data": {
      "text/plain": [
       "<Figure size 1000x600 with 1 Axes>"
      ],
      "image/png": "[encoded data removed]"
     },
     "metadata": {},
     "output_type": "display_data"
    }
   ],
   "execution_count": 214
  },
  {
   "metadata": {},
   "cell_type": "markdown",
   "source": "## Save the model",
   "id": "b426daea71567cef"
  },
  {
   "metadata": {
    "ExecuteTime": {
     "end_time": "2025-04-10T19:21:54.383945Z",
     "start_time": "2025-04-10T19:21:53.259819Z"
    }
   },
   "cell_type": "code",
   "source": "joblib.dump(model, 'randomForest.pkl')",
   "id": "2fdfd9a65f10976d",
   "outputs": [
    {
     "data": {
      "text/plain": [
       "['randomForest.pkl']"
      ]
     },
     "execution_count": 215,
     "metadata": {},
     "output_type": "execute_result"
    }
   ],
   "execution_count": 215
  },
  {
   "metadata": {},
   "cell_type": "markdown",
   "source": "## Make prediction using test set",
   "id": "94dc36164a3de829"
  },
  {
   "metadata": {
    "ExecuteTime": {
     "end_time": "2025-04-10T19:22:04.233875Z",
     "start_time": "2025-04-10T19:21:54.446787Z"
    }
   },
   "cell_type": "code",
   "source": [
    "# Read and process test set\n",
    "test_df = pd.read_csv('/cs/datasets/ID5059/Coursework2/data/test.csv')\n",
    "test_df = extract_datetime_features(test_df)\n",
    "subset = test_df[(test_df['latitude'] == 56.25) & (test_df['longitude'] == -2.75)].copy()"
   ],
   "id": "8ad3e3f8320ab2a4",
   "outputs": [],
   "execution_count": 216
  },
  {
   "metadata": {
    "ExecuteTime": {
     "end_time": "2025-04-10T19:22:04.589575Z",
     "start_time": "2025-04-10T19:22:04.273809Z"
    }
   },
   "cell_type": "code",
   "source": [
    "\n",
    "# Construct the lagging features as in training\n",
    "subset = add_lag_features(subset, base_vars, group_cols=['latitude', 'longitude'])\n",
    "subset = add_spatial_averages(subset, spatial_vars)\n",
    "subset = add_spatial_averages(subset, spatial_lag_vars)\n",
    "subset = subset.dropna()\n",
    "\n",
    "# Only select the data required\n",
    "X_test = subset[feature_cols]  # Ensure that the features are the same\n",
    "\n",
    "# Load the model and predict\n",
    "model = joblib.load('randomForest.pkl')\n",
    "y_pred_test = model.predict(X_test)\n",
    "\n",
    "# Save the predicting result\n",
    "submission = pd.DataFrame({\n",
    "    'valid_time': subset['valid_time'],\n",
    "    'prediction': y_pred_test\n",
    "}) # Meet the requirement\n",
    "submission.to_csv('prediction_randomForest.csv', index=False)\n"
   ],
   "id": "bd4906a09d760632",
   "outputs": [],
   "execution_count": 217
  },
  {
   "metadata": {},
   "cell_type": "markdown",
   "source": "## Summary",
   "id": "cd5ab72b3909cc5"
  },
  {
   "metadata": {
    "ExecuteTime": {
     "end_time": "2025-04-10T19:22:04.679082Z",
     "start_time": "2025-04-10T19:22:04.628317Z"
    }
   },
   "cell_type": "code",
   "source": [
    "print(\"Validation Set Performance:\")\n",
    "print(f\"MSE: {mean_squared_error(y_val, model.predict(X_val)):.4f}\")\n",
    "print(f\"R² : {r2_score(y_val, model.predict(X_val)):.4f}\")"
   ],
   "id": "66e2748db6638070",
   "outputs": [
    {
     "name": "stdout",
     "output_type": "stream",
     "text": [
      "Validation Set Performance:\n",
      "MSE: 2.0400\n",
      "R² : 0.6919\n"
     ]
    }
   ],
   "execution_count": 218
  },
  {
   "metadata": {},
   "cell_type": "markdown",
   "source": "## Fine tuning",
   "id": "5319b3642021cacc"
  },
  {
   "metadata": {
    "ExecuteTime": {
     "end_time": "2025-04-10T19:23:30.435640Z",
     "start_time": "2025-04-10T19:22:04.720682Z"
    }
   },
   "cell_type": "code",
   "source": [
    "\n",
    "# Parameter grid (simple)\n",
    "param_grid = {\n",
    "    'n_estimators': [100, 200],\n",
    "    'max_depth': [10, 15],\n",
    "    'min_samples_split': [2, 5],\n",
    "    'min_samples_leaf': [1, 2],\n",
    "    'max_features': ['sqrt', 'log2']\n",
    "}\n",
    "\n",
    "# Basic model\n",
    "rf = RandomForestRegressor(random_state=42, n_jobs=-1)\n",
    "\n",
    "# Grid search\n",
    "grid_search = GridSearchCV(estimator=rf,\n",
    "                           param_grid=param_grid,\n",
    "                           scoring='r2',\n",
    "                           cv=3,\n",
    "                           verbose=2,\n",
    "                           n_jobs=-1)\n",
    "\n",
    "# Model training\n",
    "grid_search.fit(X_train, y_train)\n",
    "\n",
    "# Print the results\n",
    "print(\"Best Parameters:\", grid_search.best_params_)\n",
    "print(\"Best R² Score on CV:\", grid_search.best_score_)\n",
    "\n",
    "# Evaluate the best model on the validation set\n",
    "best_model = grid_search.best_estimator_\n",
    "y_pred_val = best_model.predict(X_val)\n",
    "\n",
    "mse = mean_squared_error(y_val, y_pred_val)\n",
    "r2 = r2_score(y_val, y_pred_val)\n",
    "\n",
    "print(f\"\\nValidation MSE: {mse:.4f}\")\n",
    "print(f\"Validation R²: {r2:.4f}\")\n"
   ],
   "id": "104acbdeed266199",
   "outputs": [
    {
     "name": "stdout",
     "output_type": "stream",
     "text": [
      "Fitting 3 folds for each of 32 candidates, totalling 96 fits\n",
      "Best Parameters: {'max_depth': 15, 'max_features': 'sqrt', 'min_samples_leaf': 1, 'min_samples_split': 2, 'n_estimators': 100}\n",
      "Best R² Score on CV: 0.5894607911365348\n",
      "\n",
      "Validation MSE: 1.6679\n",
      "Validation R²: 0.7481\n"
     ]
    }
   ],
   "execution_count": 219
  }
 ],
 "metadata": {
  "kernelspec": {
   "name": "python3",
   "language": "python",
   "display_name": "Python 3 (ipykernel)"
  }
 },
 "nbformat": 4,
 "nbformat_minor": 5
}
