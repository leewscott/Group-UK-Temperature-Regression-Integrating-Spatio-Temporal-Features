{
 "cells": [
  {
   "metadata": {
    "ExecuteTime": {
     "end_time": "2025-04-09T15:04:49.459246Z",
     "start_time": "2025-04-09T15:04:48.501573Z"
    }
   },
   "cell_type": "code",
   "source": [
    "# Importing necessary libraries\n",
    "import pandas as pd\n",
    "from sklearn.pipeline import Pipeline\n",
    "from sklearn.impute import SimpleImputer\n",
    "from sklearn.preprocessing import OneHotEncoder\n",
    "from sklearn.preprocessing import StandardScaler\n",
    "from sklearn.compose import ColumnTransformer"
   ],
   "id": "769a6e8f1b2158e",
   "outputs": [],
   "execution_count": 27
  },
  {
   "metadata": {
    "collapsed": true,
    "ExecuteTime": {
     "end_time": "2025-04-09T15:00:51.214110Z",
     "start_time": "2025-04-09T15:00:22.160146Z"
    }
   },
   "cell_type": "code",
   "source": [
    "def convertDateTimeToComponents(data, column):\n",
    "    data[\"year\"] = data[column].dt.year\n",
    "    data[\"month\"] = data[column].dt.month\n",
    "    data[\"day\"] = data[column].dt.day\n",
    "    data[\"hour\"] = data[column].dt.hour\n",
    "    data[\"season\"] = ((data[\"month\"] & 12 + 3) // 3) + 1\n",
    "    return data\n",
    "\n",
    "def prepareData(data):\n",
    "    data.drop([\"id\"], axis = 1, inplace = True)  # Convert 'valid_time' to datetime\n",
    "    data[\"valid_time\"] = pd.to_datetime(data[\"valid_time\"])\n",
    "    data = convertDateTimeToComponents(data, \"valid_time\")\n",
    "    data.drop([\"valid_time\"], axis = 1, inplace = True)\n",
    "    \n",
    "era5_train = pd.read_csv(\"train.csv\", sep=\",\")\n",
    "era5_test = pd.read_csv(\"test.csv\", sep=\",\")\n",
    "\n",
    "prepareData(era5_train)\n",
    "prepareData(era5_test)"
   ],
   "id": "initial_id",
   "outputs": [],
   "execution_count": 20
  },
  {
   "metadata": {
    "ExecuteTime": {
     "end_time": "2025-04-09T15:04:21.730419Z",
     "start_time": "2025-04-09T15:04:21.725948Z"
    }
   },
   "cell_type": "code",
   "source": [
    "attributes = list(era5_train.columns)\n",
    "one_hot_attributes = [\"year\", \"month\", \"day\", \"hour\", \"season\", \"ptype\"]\n",
    "numerical_attributes = list(filter(lambda item: item not in one_hot_attributes + [\"t2m\"], attributes))\n",
    "print(one_hot_attributes)\n",
    "print(numerical_attributes)"
   ],
   "id": "47c3714685c49491",
   "outputs": [
    {
     "name": "stdout",
     "output_type": "stream",
     "text": [
      "['year', 'month', 'day', 'hour', 'season', 'ptype']\n",
      "['latitude', 'longitude', 'tp', 'u10', 'v10', 'sp', 'u100', 'v100', 'tcc']\n"
     ]
    }
   ],
   "execution_count": 25
  },
  {
   "metadata": {
    "ExecuteTime": {
     "end_time": "2025-04-09T15:06:58.853177Z",
     "start_time": "2025-04-09T15:06:19.836145Z"
    }
   },
   "cell_type": "code",
   "source": [
    "def encodeData(data, one_hot_attributes, numerical_attributes):\n",
    "    x = data.drop(\"t2m\", axis=1)\n",
    "    y = data[\"t2m\"]\n",
    "\n",
    "    onehot_pipeline = Pipeline(steps=[\n",
    "        (\"imputer\", SimpleImputer(strategy=\"most_frequent\")),\n",
    "        (\"onehot\", OneHotEncoder())\n",
    "    ])\n",
    "\n",
    "    # Defining pipeline for numerical scaling\n",
    "    numerical_pipeline = Pipeline(steps=[\n",
    "        (\"imputer\", SimpleImputer(strategy=\"median\")),\n",
    "        (\"scaler\", StandardScaler())\n",
    "    ])\n",
    "\n",
    "    transformers = [\n",
    "        (\"cat-onehot\", onehot_pipeline, one_hot_attributes),\n",
    "        (\"numerical\", numerical_pipeline, numerical_attributes)\n",
    "    ]\n",
    "\n",
    "    full_pipeline = ColumnTransformer(transformers=transformers)\n",
    "    x_prepared = full_pipeline.fit_transform(x)\n",
    "    return x_prepared, y\n",
    "\n",
    "x_train, y_train =encodeData(era5_train, one_hot_attributes, numerical_attributes)\n",
    "#x_test, y_test = encodeData(era5_test, one_hot_attributes, numerical_attributes)"
   ],
   "id": "a5c4e37aaaea83ec",
   "outputs": [],
   "execution_count": 29
  },
  {
   "metadata": {},
   "cell_type": "code",
   "outputs": [],
   "execution_count": null,
   "source": "",
   "id": "ca4892ce74e3735f"
  }
 ],
 "metadata": {
  "kernelspec": {
   "display_name": "Python 3",
   "language": "python",
   "name": "python3"
  },
  "language_info": {
   "codemirror_mode": {
    "name": "ipython",
    "version": 2
   },
   "file_extension": ".py",
   "mimetype": "text/x-python",
   "name": "python",
   "nbconvert_exporter": "python",
   "pygments_lexer": "ipython2",
   "version": "2.7.6"
  }
 },
 "nbformat": 4,
 "nbformat_minor": 5
}
